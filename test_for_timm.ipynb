{
 "cells": [
  {
   "cell_type": "code",
   "execution_count": 1,
   "metadata": {},
   "outputs": [
    {
     "name": "stderr",
     "output_type": "stream",
     "text": [
      "/usr/local/lib/python3.10/site-packages/tqdm/auto.py:22: TqdmWarning: IProgress not found. Please update jupyter and ipywidgets. See https://ipywidgets.readthedocs.io/en/stable/user_install.html\n",
      "  from .autonotebook import tqdm as notebook_tqdm\n"
     ]
    }
   ],
   "source": [
    "import timm\n",
    "from PIL import Image\n",
    "import torch\n",
    "from torchvision import transforms\n",
    "from torch.nn import functional as F\n",
    "import timm.models.mlp_mixer\n",
    "import numpy as np\n",
    "import exchange_tensor_array as exchange\n",
    "import matplotlib.pyplot as plt\n",
    "\n",
    "from pathlib import Path\n",
    "from torchvision.datasets.utils import download_url\n",
    "import json"
   ]
  },
  {
   "cell_type": "code",
   "execution_count": 2,
   "metadata": {},
   "outputs": [
    {
     "name": "stdout",
     "output_type": "stream",
     "text": [
      "model\n"
     ]
    }
   ],
   "source": [
    "#モデル作成\n",
    "model = timm.create_model(\"gmlp_s16_224\", pretrained=True)\n",
    "model.eval()\n",
    "print(\"model\")"
   ]
  },
  {
   "cell_type": "code",
   "execution_count": 3,
   "metadata": {},
   "outputs": [],
   "source": [
    "transform = transforms.Compose(\n",
    "    [\n",
    "        transforms.Resize(256),  # (256, 256) で切り抜く。\n",
    "        transforms.CenterCrop(224),  # 画像の中心に合わせて、(224, 224) で切り抜く\n",
    "        transforms.ToTensor(),  # テンソルにする。\n",
    "        transforms.Normalize(\n",
    "            mean=[0.485, 0.456, 0.406], std=[0.229, 0.224, 0.225]\n",
    "        ),  # 標準化する。\n",
    "    ]\n",
    ")"
   ]
  },
  {
   "cell_type": "code",
   "execution_count": 4,
   "metadata": {},
   "outputs": [
    {
     "name": "stdout",
     "output_type": "stream",
     "text": [
      "<class 'PIL.JpegImagePlugin.JpegImageFile'>\n",
      "<class 'torch.Tensor'>\n"
     ]
    }
   ],
   "source": [
    "img = Image.open(\"cat.jpg\")\n",
    "print(type(img))\n",
    "inputs = transform(img)\n",
    "inputs = inputs.unsqueeze(0)\n",
    "print(type(inputs))"
   ]
  },
  {
   "cell_type": "code",
   "execution_count": 5,
   "metadata": {},
   "outputs": [],
   "source": [
    "import PixelAblationCAMfrogMLP\n",
    "exp = PixelAblationCAMfrogMLP.PixelAblationCAMfrogMLP(model)"
   ]
  },
  {
   "cell_type": "code",
   "execution_count": 6,
   "metadata": {},
   "outputs": [
    {
     "name": "stdout",
     "output_type": "stream",
     "text": [
      "[[ 7.83573196e-05  0.00000000e+00  0.00000000e+00 ...  0.00000000e+00\n",
      "   0.00000000e+00  0.00000000e+00]\n",
      " [-1.11655868e-03  0.00000000e+00  0.00000000e+00 ...  0.00000000e+00\n",
      "   0.00000000e+00  0.00000000e+00]\n",
      " [-2.11929367e-03  0.00000000e+00  0.00000000e+00 ...  0.00000000e+00\n",
      "   0.00000000e+00  0.00000000e+00]\n",
      " ...\n",
      " [-4.95865243e-04  0.00000000e+00  0.00000000e+00 ...  0.00000000e+00\n",
      "   0.00000000e+00  0.00000000e+00]\n",
      " [-4.30766377e-04  0.00000000e+00  0.00000000e+00 ...  0.00000000e+00\n",
      "   0.00000000e+00  0.00000000e+00]\n",
      " [-2.90558470e-04  0.00000000e+00  0.00000000e+00 ...  0.00000000e+00\n",
      "   0.00000000e+00  0.00000000e+00]]\n"
     ]
    }
   ],
   "source": [
    "exp_out = exp.calc_value_las_block_beta(inputs)\n",
    "print(exp_out)"
   ]
  },
  {
   "cell_type": "code",
   "execution_count": null,
   "metadata": {},
   "outputs": [],
   "source": [
    "print(exp_out[0])"
   ]
  },
  {
   "cell_type": "code",
   "execution_count": null,
   "metadata": {},
   "outputs": [],
   "source": [
    "#推論\n",
    "output = model(inputs)"
   ]
  },
  {
   "cell_type": "code",
   "execution_count": null,
   "metadata": {},
   "outputs": [],
   "source": [
    "from sys import orig_argv\n",
    "\n",
    "\n",
    "batch_probs = F.softmax(output, dim = 1)\n",
    "print(type(batch_probs), batch_probs.shape)\n",
    "print(batch_probs[0][285].item() * 100)\n",
    "batch_probs, batch_indices = batch_probs.sort(dim = 1, descending=True)\n",
    "print(batch_probs[0][0])\n",
    "print(type(batch_probs), type(batch_indices))\n",
    "print(batch_indices[0][0])\n",
    "def get_classes():\n",
    "    if not Path(\"data/imagenet_class_index.json\").exists():\n",
    "        # ファイルが存在しない場合はダウンロードする。\n",
    "        download_url(\"https://git.io/JebAs\", \"data\", \"imagenet_class_index.json\")\n",
    "\n",
    "    # クラス一覧を読み込む。\n",
    "    with open(\"data/imagenet_class_index.json\") as f:\n",
    "        data = json.load(f)\n",
    "        class_names = [x[\"ja\"] for x in data]\n",
    "\n",
    "    return class_names\n",
    "\n",
    "\n",
    "# クラス名一覧を取得する。\n",
    "class_names = get_classes()\n",
    "print(class_names.index(\"エジプトの猫\"))"
   ]
  },
  {
   "cell_type": "code",
   "execution_count": null,
   "metadata": {},
   "outputs": [],
   "source": [
    "for probs, indices in zip(batch_probs, batch_indices):\n",
    "    for k in range(3):\n",
    "        print(f\"Top-{k + 1} {class_names[indices[k]]} {probs[k]:.2%}\")"
   ]
  },
  {
   "cell_type": "code",
   "execution_count": null,
   "metadata": {},
   "outputs": [],
   "source": [
    "bp = batch_probs[0][0]\n",
    "bi = batch_indices[0][0]\n",
    "k = 0\n",
    "print(f\"Top-{k + 1} {class_names[bi]} {bp:.2%}\")\n"
   ]
  },
  {
   "cell_type": "code",
   "execution_count": null,
   "metadata": {},
   "outputs": [],
   "source": [
    "#print(class_names)"
   ]
  },
  {
   "cell_type": "code",
   "execution_count": null,
   "metadata": {},
   "outputs": [],
   "source": [
    "tmp = model.tmp\n",
    "tmp.shape"
   ]
  },
  {
   "cell_type": "code",
   "execution_count": null,
   "metadata": {},
   "outputs": [],
   "source": [
    "bi = model.blocks_input\n",
    "bo = model.blocks_output\n",
    "print(torch.allclose(bi, tmp))\n",
    "print(torch.allclose(bo, tmp))"
   ]
  },
  {
   "cell_type": "code",
   "execution_count": null,
   "metadata": {},
   "outputs": [],
   "source": [
    "block_inputs = []\n",
    "block_outputs = []\n",
    "#ブロックの入出力の抽出\n",
    "for i in model.blocks:\n",
    "    _input = i.block_input\n",
    "    #print(_input)\n",
    "    #print(type(i))\n",
    "    #print(vars(i).keys())\n",
    "    _output = i.block_output\n",
    "    block_inputs.append(_input)\n",
    "    block_outputs.append(_output)\n",
    "    print(torch.allclose(bi, _input))\n",
    "    print(torch.allclose(bi, _output))\n",
    "    print(torch.allclose(bo, _input))\n",
    "    print(torch.allclose(bo, _output))\n",
    "    #print(type(_input), _input.shape)\n",
    "    #print(type(_output), _output.shape)"
   ]
  },
  {
   "cell_type": "code",
   "execution_count": null,
   "metadata": {},
   "outputs": [],
   "source": [
    "for i in block_inputs:\n",
    "    #print(i.shape == tmp.shape)\n",
    "    print(torch.allclose(i, tmp))"
   ]
  },
  {
   "cell_type": "code",
   "execution_count": null,
   "metadata": {},
   "outputs": [],
   "source": [
    "print(model.pooling_only(tmp) == output)"
   ]
  },
  {
   "cell_type": "code",
   "execution_count": null,
   "metadata": {},
   "outputs": [],
   "source": [
    "b1 = block_outputs[0]\n",
    "print(b1.shape)\n",
    "p = exchange.exchange_tensor_to_array(i)"
   ]
  },
  {
   "cell_type": "code",
   "execution_count": null,
   "metadata": {},
   "outputs": [],
   "source": [
    "j = 1\n",
    "for i in block_outputs:\n",
    "    p = exchange.exchange_tensor_to_array(i)\n",
    "    #print(type(i[0]), i[0].shape)\n",
    "    #print(type(tmp))\n",
    "    #exchange.show_heatmap_with_colorbar(tmp)\n",
    "    #print(type(tmp), tmp.shape)\n",
    "    tmp_output = model.pooling_only(i)\n",
    "    #print(tmp_output.shape)\n",
    "    #print(tmp_output == output)\n",
    "    #print(type(tmp_output), tmp_output.shape)\n",
    "    if torch.allclose(tmp_output, output):\n",
    "        print(\"A\")\n",
    "        print(j)\n",
    "    j += 1"
   ]
  },
  {
   "cell_type": "code",
   "execution_count": null,
   "metadata": {},
   "outputs": [],
   "source": [
    "#print(tmp_output == output)\n",
    "print(torch.allclose(tmp_output, output))\n",
    "tmp_output = model.pooling_only(block_outputs[-1])\n",
    "print(torch.allclose(tmp_output, output))"
   ]
  },
  {
   "cell_type": "code",
   "execution_count": null,
   "metadata": {},
   "outputs": [],
   "source": [
    "for i in block_outputs:\n",
    "    break\n",
    "    tmp = exchange.exchange_tensor_to_array(i[0])\n",
    "    #print(type(tmp))\n",
    "    exchange.show_heatmap_with_colorbar(tmp)"
   ]
  }
 ],
 "metadata": {
  "kernelspec": {
   "display_name": "Python 3.10.6 64-bit",
   "language": "python",
   "name": "python3"
  },
  "language_info": {
   "codemirror_mode": {
    "name": "ipython",
    "version": 3
   },
   "file_extension": ".py",
   "mimetype": "text/x-python",
   "name": "python",
   "nbconvert_exporter": "python",
   "pygments_lexer": "ipython3",
   "version": "3.10.7"
  },
  "orig_nbformat": 4,
  "vscode": {
   "interpreter": {
    "hash": "949777d72b0d2535278d3dc13498b2535136f6dfe0678499012e853ee9abcab1"
   }
  }
 },
 "nbformat": 4,
 "nbformat_minor": 2
}
