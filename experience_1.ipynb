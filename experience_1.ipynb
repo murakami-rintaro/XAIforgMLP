{
 "cells": [
  {
   "attachments": {},
   "cell_type": "markdown",
   "metadata": {},
   "source": [
    "必要な機能\n",
    "\n",
    "元画像の読み込みと処理\n",
    "マッピングされた画像の読み込み\n",
    "バウンティボックスの情報の読み込み\n",
    "処理後のバウンティボックスの座標の算出\n",
    "指標の算出（2つ）"
   ]
  },
  {
   "cell_type": "code",
   "execution_count": 244,
   "metadata": {},
   "outputs": [],
   "source": [
    "from torchvision import transforms\n",
    "from PIL import Image\n",
    "import xml.etree.ElementTree as ET\n",
    "import numpy as np\n",
    "\n",
    "\n",
    "class Experience_bounding_box():\n",
    "    \n",
    "    def __init__(self) -> None:\n",
    "        \"\"\"\n",
    "        初期化\n",
    "        \"\"\"\n",
    "        self.transform = transforms.Compose(\n",
    "            [\n",
    "                transforms.Resize(256),  # (256, 256) で切り抜く。\n",
    "                transforms.CenterCrop(224),  # 画像の中心に合わせて、(224, 224) で切り抜く\n",
    "            ]\n",
    "        )\n",
    "\n",
    " \n",
    "    def open_and_resize_original_image(self, img_path : str) -> Image.Image:\n",
    "        \"\"\"\n",
    "        img_pathの元画像を読み込んでサイズを(244, 244)にして返す\n",
    "        \"\"\"\n",
    "        original_image = Image.open(img_path)\n",
    "        original_image = self.transform(original_image)\n",
    "        \n",
    "        return original_image\n",
    "    \n",
    "    \n",
    "    def open_result_image(self, img_path : str) -> Image.Image:\n",
    "        \"\"\"\n",
    "        img_pathのマッピングされた画像を読み込んで返す（サイズの変更はしない）\n",
    "        \"\"\"\n",
    "        result_image = Image.open(img_path)\n",
    "        \n",
    "        return result_image\n",
    "    \n",
    "    \n",
    "    def get_image_size_and_bounding_box_cornerpoints(self, file_path : str) -> list[tuple]:\n",
    "        \"\"\"\n",
    "        file_pathのxmlファイルから画像サイズとバウンディングボックスの座標を読み込んで返す\n",
    "        [(height, width), (ymin, ymax, xmax, xmin)]\n",
    "        \"\"\"\n",
    "        xml_file = open(file_path)\n",
    "        xmll_tree = ET.parse(xml_file)\n",
    "        root = xmll_tree.getroot()\n",
    "        for obj in root.iter(\"size\"):\n",
    "            h = int(obj.find(\"height\").text)\n",
    "            w = int(obj.find(\"width\").text)\n",
    "        \n",
    "        for obj in root.iter('object'):\n",
    "            xmlbox = obj.find(\"bndbox\")\n",
    "            ymin = int(xmlbox.find('ymin').text)\n",
    "            ymax = int(xmlbox.find('ymax').text)\n",
    "            xmin = int(xmlbox.find('xmin').text)\n",
    "            xmax = int(xmlbox.find('xmax').text)\n",
    "        \n",
    "        \n",
    "        return [(h, w), (ymin, ymax, xmin, xmax)]\n",
    "            \n",
    "    \n",
    "       \n",
    "    def get_resized_box_corner(self, original_size : tuple, original_corner_points : tuple) -> list:\n",
    "        \"\"\"\n",
    "        original_cornerで表されるバウンディングボックスを持つ、サイズがoriginal_size(y, x)の画像が(224, 224)にresizeした後の、\n",
    "        バウンディングボックスのの座標を返す\n",
    "        [ymin, ymax, xmax, xmin]\n",
    "        \"\"\"\n",
    "        h, w = original_size\n",
    "        ymin, ymax, xmin, xmax = original_corner_points\n",
    "        \n",
    "        # xmlファイルの座標は右下原点(?)なので上下左右に反転させて左上原点に直す\n",
    "        ymin = h - ymin - 1\n",
    "        ymax = h - ymax - 1\n",
    "        xmin = w - xmin - 1\n",
    "        xmax = w - xmax - 1\n",
    "        \n",
    "        # transforms.Resize(256)に相当する座標変換を行う\n",
    "        tmp = min(h, w)\n",
    "        ymin = ymin * 256 // tmp\n",
    "        ymax = ymax * 256 // tmp\n",
    "        xmin = xmin * 256 // tmp\n",
    "        xmax = xmax * 256 // tmp\n",
    "        \n",
    "        # transforms.CenterCrop(224)に相当する座標変換を行う\n",
    "        tmp = (256 - 224) // 2\n",
    "        ymin -= tmp\n",
    "        ymax -= tmp\n",
    "        xmin -= tmp\n",
    "        xmax -= tmp\n",
    "        \n",
    "        return [ymin, ymax, xmin, xmax]\n",
    "    \n",
    "    \n",
    "    def cal_val(self, original_img_path : str, result_img_path : str, xml_path : str) -> list[tuple]:\n",
    "        # 元画像の読み込みと処理\n",
    "        original_img = self.open_and_resize_original_image(original_img_path)\n",
    "        # マッピングされた画像の読み込み\n",
    "        result_img = self.open_result_image(result_img_path)\n",
    "        # xmlファイルから元画像のサイズと4つの座標の読み込み\n",
    "        original_img_size, bndbox_coordinates = self.get_image_size_and_bounding_box_cornerpoints(xml_path)\n",
    "        # 返還後のバウンディングボックスの4つの頂点の座標の算出\n",
    "        ymin, ymax, xmin, xmax = self.get_resized_box_corner(original_img_size, bndbox_coordinates)\n",
    "        \n",
    "        count_in_bndbox = [0, 0] # バウンディングボックスの中のマッピングされた割合を記録するためのリスト. 0でマッピングされている, 1でマッピングされていない\n",
    "        count_mapped = [0, 0] # マッピングされた領域のうち、バウンディングボックスの内外にある割合を記録するためのリスト. 0でバウンディングボックスの内側（境界含む）, 1でバウンディングボックスの外側\n",
    "        \n",
    "        for i in range(224):\n",
    "            for j in range(224):\n",
    "                if original_img.getpixel((i, j)) != result_img.getpixel((i, j)): # マッピングされている\n",
    "                    if ymin <= i <= ymax and xmin <= j <= xmax: # バウンディングボックスの内側\n",
    "                        count_in_bndbox[0] += 1\n",
    "                        count_mapped[0] += 1\n",
    "                    else:# バウンディングボックスの外側\n",
    "                        count_mapped[1] += 1\n",
    "                elif ymin <= i <= ymax and xmin <= j <= xmax: # マッピングされていないかつバウンディングボックスの内側\n",
    "                    count_in_bndbox[1] += 1\n",
    "        \n",
    "        a, b = count_in_bndbox\n",
    "        count_in_bndbox.append(a * 100 / (a + b))\n",
    "        a, b = count_mapped\n",
    "        count_mapped.append(a * 100 / (a + b))\n",
    "        \n",
    "        return[tuple(count_in_bndbox), tuple(count_mapped)]\n",
    "                    \n",
    "                        \n",
    "                        \n",
    "        \n",
    "        \n",
    "        \n",
    "        \n",
    "        \n",
    "        \n",
    "        \n",
    "        "
   ]
  },
  {
   "cell_type": "code",
   "execution_count": 245,
   "metadata": {},
   "outputs": [],
   "source": [
    "exp1 = Experience_bounding_box()"
   ]
  },
  {
   "cell_type": "code",
   "execution_count": 246,
   "metadata": {},
   "outputs": [
    {
     "name": "stdout",
     "output_type": "stream",
     "text": [
      "280 245\n",
      "(3, 3, 3) (148, 61)\n",
      "(2, 2, 2) (148, 134)\n",
      "(1, 1, 1) (219, 61)\n",
      "(0, 0, 0) (219, 134)\n"
     ]
    }
   ],
   "source": [
    "original_corner = exp1.get_bounding_box_corner(\"xmls/Abyssinian_13.xml\")\n",
    "resized_corner = exp1.get_resized_box_corner((245, 280), original_corner)"
   ]
  },
  {
   "cell_type": "code",
   "execution_count": 191,
   "metadata": {},
   "outputs": [
    {
     "data": {
      "text/plain": [
       "[(25, 145), (25, 218), (96, 145), (96, 218)]"
      ]
     },
     "execution_count": 191,
     "metadata": {},
     "output_type": "execute_result"
    }
   ],
   "source": [
    "original_corner"
   ]
  },
  {
   "cell_type": "code",
   "execution_count": 225,
   "metadata": {},
   "outputs": [
    {
     "data": {
      "text/plain": [
       "(219, 148, 134, 61)"
      ]
     },
     "execution_count": 225,
     "metadata": {},
     "output_type": "execute_result"
    }
   ],
   "source": [
    "245 - 25 - 1, 245 - 96 - 1, 280 - 145 - 1, 280 - 218 - 1"
   ]
  },
  {
   "cell_type": "code",
   "execution_count": 211,
   "metadata": {},
   "outputs": [
    {
     "data": {
      "text/plain": [
       "292"
      ]
     },
     "execution_count": 211,
     "metadata": {},
     "output_type": "execute_result"
    }
   ],
   "source": [
    "280 * 256 // 245"
   ]
  },
  {
   "cell_type": "code",
   "execution_count": 210,
   "metadata": {},
   "outputs": [
    {
     "data": {
      "text/plain": [
       "(256, 292)"
      ]
     },
     "execution_count": 210,
     "metadata": {},
     "output_type": "execute_result"
    }
   ],
   "source": [
    "resized_corner.size"
   ]
  },
  {
   "cell_type": "code",
   "execution_count": 201,
   "metadata": {},
   "outputs": [
    {
     "data": {
      "image/png": "[encoded data removed]",
      "text/plain": [
       "<PIL.Image.Image image mode=RGB size=224x224>"
      ]
     },
     "execution_count": 201,
     "metadata": {},
     "output_type": "execute_result"
    }
   ],
   "source": [
    "resized_corner"
   ]
  },
  {
   "cell_type": "code",
   "execution_count": 214,
   "metadata": {},
   "outputs": [
    {
     "data": {
      "text/plain": [
       "154.64489795918368"
      ]
     },
     "execution_count": 214,
     "metadata": {},
     "output_type": "execute_result"
    }
   ],
   "source": [
    "148 / 245 * 256"
   ]
  },
  {
   "cell_type": "code",
   "execution_count": 222,
   "metadata": {},
   "outputs": [
    {
     "data": {
      "text/plain": [
       "154.64489795918368"
      ]
     },
     "execution_count": 222,
     "metadata": {},
     "output_type": "execute_result"
    }
   ],
   "source": [
    "148 * 256 / 245"
   ]
  },
  {
   "attachments": {},
   "cell_type": "markdown",
   "metadata": {},
   "source": [
    "回転させた後のy/x座標 * (256 * 画像のy/xのサイズ / 画像のy/xサイズの小さい方) / 画像のy/xのサイズ\n",
    "= 回転させた後のy/x座標 * 256 / 画像のy/xサイズの小さい方"
   ]
  },
  {
   "cell_type": "code",
   "execution_count": 221,
   "metadata": {},
   "outputs": [
    {
     "data": {
      "text/plain": [
       "63.73877551020408"
      ]
     },
     "execution_count": 221,
     "metadata": {},
     "output_type": "execute_result"
    }
   ],
   "source": [
    "61 * 256 / 245"
   ]
  },
  {
   "cell_type": "code",
   "execution_count": 213,
   "metadata": {},
   "outputs": [
    {
     "name": "stdout",
     "output_type": "stream",
     "text": [
      "(219, 219, 219) (154, 63)\n",
      "(196, 196, 196) (154, 64)\n",
      "(231, 231, 231) (154, 139)\n",
      "(185, 185, 185) (154, 140)\n",
      "(188, 188, 188) (155, 63)\n",
      "(143, 143, 143) (155, 64)\n",
      "(209, 209, 209) (155, 139)\n",
      "(122, 122, 122) (155, 140)\n"
     ]
    }
   ],
   "source": [
    "for i in range(224):\n",
    "    for j in range(224):\n",
    "        tmp = resized_corner.getpixel((i, j))\n",
    "        if tmp != (255, 255, 255):\n",
    "            print(tmp,(i, j))"
   ]
  },
  {
   "cell_type": "code",
   "execution_count": 193,
   "metadata": {},
   "outputs": [
    {
     "name": "stdout",
     "output_type": "stream",
     "text": [
      "(219, 219, 219) (154, 63)\n",
      "(196, 196, 196) (154, 64)\n",
      "(231, 231, 231) (154, 139)\n",
      "(185, 185, 185) (154, 140)\n",
      "(188, 188, 188) (155, 63)\n",
      "(143, 143, 143) (155, 64)\n",
      "(209, 209, 209) (155, 139)\n",
      "(122, 122, 122) (155, 140)\n"
     ]
    }
   ],
   "source": [
    "for i in range(224):\n",
    "    for j in range(224):\n",
    "        tmp = resized_corner.getpixel((i, j))\n",
    "        if tmp != (255, 255, 255):\n",
    "            print(tmp,(i, j))"
   ]
  },
  {
   "cell_type": "code",
   "execution_count": null,
   "metadata": {},
   "outputs": [],
   "source": []
  },
  {
   "cell_type": "code",
   "execution_count": 195,
   "metadata": {},
   "outputs": [
    {
     "data": {
      "text/plain": [
       "(256, 292)"
      ]
     },
     "execution_count": 195,
     "metadata": {},
     "output_type": "execute_result"
    }
   ],
   "source": [
    "resized_corner.size"
   ]
  },
  {
   "cell_type": "code",
   "execution_count": 94,
   "metadata": {},
   "outputs": [],
   "source": [
    "tmp = Image.new(\"L\", (100, 100), 255)"
   ]
  },
  {
   "cell_type": "code",
   "execution_count": 95,
   "metadata": {},
   "outputs": [
    {
     "data": {
      "image/png": "[encoded data removed]",
      "text/plain": [
       "<PIL.Image.Image image mode=L size=100x100>"
      ]
     },
     "execution_count": 95,
     "metadata": {},
     "output_type": "execute_result"
    }
   ],
   "source": [
    "tmp"
   ]
  },
  {
   "cell_type": "code",
   "execution_count": 96,
   "metadata": {},
   "outputs": [],
   "source": [
    "for i in range(100):\n",
    "    for j in range(100):\n",
    "        if (i + j) % 5 == 0:\n",
    "            tmp.putpixel((i, j), 0)"
   ]
  },
  {
   "cell_type": "code",
   "execution_count": 97,
   "metadata": {},
   "outputs": [
    {
     "data": {
      "image/png": "[encoded data removed]",
      "text/plain": [
       "<PIL.Image.Image image mode=L size=100x100>"
      ]
     },
     "execution_count": 97,
     "metadata": {},
     "output_type": "execute_result"
    }
   ],
   "source": [
    "tmp"
   ]
  }
 ],
 "metadata": {
  "kernelspec": {
   "display_name": "Python 3",
   "language": "python",
   "name": "python3"
  },
  "language_info": {
   "codemirror_mode": {
    "name": "ipython",
    "version": 3
   },
   "file_extension": ".py",
   "mimetype": "text/x-python",
   "name": "python",
   "nbconvert_exporter": "python",
   "pygments_lexer": "ipython3",
   "version": "3.10.8"
  },
  "orig_nbformat": 4,
  "vscode": {
   "interpreter": {
    "hash": "949777d72b0d2535278d3dc13498b2535136f6dfe0678499012e853ee9abcab1"
   }
  }
 },
 "nbformat": 4,
 "nbformat_minor": 2
}
