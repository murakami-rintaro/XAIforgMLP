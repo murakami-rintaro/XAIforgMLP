{
 "cells": [
  {
   "attachments": {},
   "cell_type": "markdown",
   "metadata": {},
   "source": [
    "必要な機能\n",
    "\n",
    "元画像の読み込みと処理\n",
    "マッピングされた画像の読み込み\n",
    "バウンティボックスの情報の読み込み\n",
    "処理後のバウンティボックスの座標の算出\n",
    "指標の算出（2つ）"
   ]
  },
  {
   "cell_type": "code",
   "execution_count": 13,
   "metadata": {},
   "outputs": [],
   "source": [
    "from torchvision import transforms\n",
    "from PIL import Image\n",
    "\n",
    "class Experience_bounding_box():\n",
    "    \n",
    "    def __init__(self) -> None:\n",
    "        \"\"\"\n",
    "        初期化\n",
    "        \"\"\"\n",
    "        self.transform = transforms.Compose(\n",
    "            [\n",
    "                transforms.Resize(256),  # (256, 256) で切り抜く。\n",
    "                transforms.CenterCrop(224),  # 画像の中心に合わせて、(224, 224) で切り抜く\n",
    "            ]\n",
    "        )\n",
    "\n",
    " \n",
    "    def open_and_resize_original_image(self, img_path : str) -> Image.Image:\n",
    "        \"\"\"\n",
    "        img_pathの元画像を読み込んでサイズを(244, 244)にして返す\n",
    "        \"\"\"\n",
    "        original_image = Image.open(img_path)\n",
    "        original_image = self.transform(original_image)\n",
    "        \n",
    "        return original_image\n",
    "    \n",
    "    \n",
    "    def open_result_image(self, img_path : str) -> Image.Image:\n",
    "        \"\"\"\n",
    "        img_pathのマッピングされた画像を読み込んで返す（サイズの変更はしない）\n",
    "        \"\"\"\n",
    "        result_image = Image.open(img_path)\n",
    "        result_image = self.transform(result_image)\n",
    "        \n",
    "        return result_image\n",
    "    \n",
    "    \n",
    "            "
   ]
  },
  {
   "cell_type": "code",
   "execution_count": 14,
   "metadata": {},
   "outputs": [],
   "source": [
    "exp1 = Experience_bounding_box()"
   ]
  },
  {
   "cell_type": "code",
   "execution_count": 15,
   "metadata": {},
   "outputs": [],
   "source": [
    "img = exp1.open_original_image(\"cat.jpg\")"
   ]
  },
  {
   "cell_type": "code",
   "execution_count": 16,
   "metadata": {},
   "outputs": [
    {
     "data": {
      "text/plain": [
       "PIL.Image.Image"
      ]
     },
     "execution_count": 16,
     "metadata": {},
     "output_type": "execute_result"
    }
   ],
   "source": [
    "type(img)"
   ]
  },
  {
   "cell_type": "code",
   "execution_count": 12,
   "metadata": {},
   "outputs": [
    {
     "data": {
      "text/plain": [
       "(188, 174, 171)"
      ]
     },
     "execution_count": 12,
     "metadata": {},
     "output_type": "execute_result"
    }
   ],
   "source": [
    "img.getpixel((0,0))"
   ]
  }
 ],
 "metadata": {
  "kernelspec": {
   "display_name": "Python 3",
   "language": "python",
   "name": "python3"
  },
  "language_info": {
   "codemirror_mode": {
    "name": "ipython",
    "version": 3
   },
   "file_extension": ".py",
   "mimetype": "text/x-python",
   "name": "python",
   "nbconvert_exporter": "python",
   "pygments_lexer": "ipython3",
   "version": "3.10.8"
  },
  "orig_nbformat": 4,
  "vscode": {
   "interpreter": {
    "hash": "949777d72b0d2535278d3dc13498b2535136f6dfe0678499012e853ee9abcab1"
   }
  }
 },
 "nbformat": 4,
 "nbformat_minor": 2
}
