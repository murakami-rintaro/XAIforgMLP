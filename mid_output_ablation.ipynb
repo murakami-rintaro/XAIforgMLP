{
 "cells": [
  {
   "cell_type": "markdown",
   "metadata": {},
   "source": [
    "https://laid-back-scientist.com/k-means\n",
    "https://laid-back-scientist.com/k-means"
   ]
  },
  {
   "cell_type": "code",
   "execution_count": 1,
   "metadata": {},
   "outputs": [
    {
     "name": "stderr",
     "output_type": "stream",
     "text": [
      "/usr/local/lib/python3.10/site-packages/tqdm/auto.py:22: TqdmWarning: IProgress not found. Please update jupyter and ipywidgets. See https://ipywidgets.readthedocs.io/en/stable/user_install.html\n",
      "  from .autonotebook import tqdm as notebook_tqdm\n"
     ]
    },
    {
     "name": "stdout",
     "output_type": "stream",
     "text": [
      "model\n"
     ]
    }
   ],
   "source": [
    "import timm\n",
    "from PIL import Image\n",
    "import torch\n",
    "from torchvision import transforms\n",
    "from torch.nn import functional as F\n",
    "import timm.models.mlp_mixer\n",
    "import numpy as np\n",
    "import exchange_tensor_array as exchange\n",
    "import matplotlib.pyplot as plt\n",
    "\n",
    "from pathlib import Path\n",
    "from torchvision.datasets.utils import download_url\n",
    "import json\n",
    "\n",
    "import copy\n",
    "#モデル作成\n",
    "model = timm.create_model(\"gmlp_s16_224\", pretrained=True)\n",
    "model.eval()\n",
    "print(\"model\")\n",
    "\n",
    "transform = transforms.Compose(\n",
    "    [\n",
    "        transforms.Resize(256),  # (256, 256) で切り抜く。\n",
    "        transforms.CenterCrop(224),  # 画像の中心に合わせて、(224, 224) で切り抜く\n",
    "        transforms.ToTensor(),  # テンソルにする。\n",
    "        transforms.Normalize(\n",
    "            mean=[0.485, 0.456, 0.406], std=[0.229, 0.224, 0.225]\n",
    "        ),  # 標準化する。\n",
    "    ]\n",
    ")\n",
    "\n",
    "transform_beta = transforms.Compose(\n",
    "    [\n",
    "        transforms.Resize(256),  # (256, 256) で切り抜く。\n",
    "        transforms.CenterCrop(224),  # 画像の中心に合わせて、(224, 224) で切り抜く\n",
    "    ]\n",
    ")\n",
    "\n",
    "img = Image.open(\"cat.jpg\")\n",
    "inputs = transform(img)\n",
    "inputs = inputs.unsqueeze(0)\n",
    "#plt.imshow(inputs[0].permute(1,2,0))\n",
    "copy_inputs = copy.deepcopy(inputs)"
   ]
  },
  {
   "cell_type": "code",
   "execution_count": 2,
   "metadata": {},
   "outputs": [],
   "source": [
    "from sklearn.cluster import KMeans\n",
    "from collections import defaultdict\n",
    "from scipy.spatial import ConvexHull, Delaunay\n",
    "\n",
    "class mid_output_k_meams_ablation():\n",
    "    \n",
    "    def __init__(self, model : timm.models.mlp_mixer.MlpMixer) -> None:\n",
    "        self.model = model\n",
    "        self.class_names = None\n",
    "        self.get_classes()\n",
    "        self.inputs = []\n",
    "        self.values = []\n",
    "        self.block_output = None\n",
    "        self.block_output_exchanged = None\n",
    "        self.points = None\n",
    "        self.K = 10\n",
    "        self.clusters = None\n",
    "        self.dd = defaultdict(lambda : [])\n",
    "        self.left = defaultdict(lambda : 1000)\n",
    "        self.right = defaultdict(lambda : -1000)\n",
    "        self.up = defaultdict(lambda : 1000)\n",
    "        self.down = defaultdict(lambda : -1000)\n",
    "        self.input_backup = defaultdict(lambda : []) # r, b, g\n",
    "        self.masked_input = []\n",
    "        self.border = 3.5\n",
    "        \n",
    "    def get_classes(self):\n",
    "        if not Path(\"data/imagenet_class_index.json\").exists():\n",
    "            # ファイルが存在しない場合はダウンロードする。\n",
    "            download_url(\"https://git.io/JebAs\", \"data\", \"imagenet_class_index.json\")\n",
    "\n",
    "        # クラス一覧を読み込む。\n",
    "        with open(\"data/imagenet_class_index.json\") as f:\n",
    "            data = json.load(f)\n",
    "            self.class_names = [x[\"ja\"] for x in data]\n",
    "    \n",
    "    def base_model_output(self, _input : torch.Tensor) -> tuple:\n",
    "        \"\"\"画像をモデルに入力した際の一番スコアが高いラベルとそのスコアを返す\"\"\"\n",
    "        base_output = self.model(_input)\n",
    "        batch_probs = F.softmax(base_output, dim=1)\n",
    "        batch_probs, batch_indices = batch_probs.sort(dim=1, descending=True)\n",
    "\n",
    "        return (self.class_names[batch_indices[0][0]], batch_probs[0][0].item())\n",
    "    \n",
    "    def in_hull_(self, point : list, hull : list):\n",
    "        \"\"\"点群hullからなる凸包内に点pointが入っているかを判定\"\"\"\n",
    "        if not isinstance(hull, Delaunay):\n",
    "            hull = Delaunay(hull)\n",
    "        return hull.find_simplex(point) >= 0\n",
    "    \n",
    "    def calc_value(self, _input : torch.Tensor, K = 10) -> np.ndarray: \n",
    "        \"\"\"\n",
    "        入力画像に対して、最初の中間層において値の絶対値が閾値より大きいものに対してk-means法によるクラスタリングを行い、\n",
    "        各クラスタによって形成される凸包単位でのマスクを行った際のスコアの変化を予測への寄与とする\n",
    "        寄与度は元々のスコアをx, (i,j)要素を0にした際のスコアをyijとしたとき、(yij - x) / xとする\n",
    "        \"\"\"\n",
    "        #print(len(np.where(inputs != _input)))\n",
    "        #クラスタ数\n",
    "        self.K = K\n",
    "        \n",
    "        #スコア記録用配列\n",
    "        tmp_values = np.zeros((224, 224))\n",
    "        \n",
    "        self.masked_input = []\n",
    "        count = 0\n",
    "        \n",
    "        #元々のスコアとクラス名とそのインデックスを取得\n",
    "        self.base_class_name, self.base_prob = self.base_model_output(_input)\n",
    "        self.base_class_index = self.class_names.index(self.base_class_name)\n",
    "        \n",
    "        #最初の中間層を取得\n",
    "        self.block_output = self.model.blocks[0].block_output\n",
    "        self.block_output_exchanged = exchange.exchange_tensor_to_array(self.block_output)\n",
    "        \n",
    "        #最初の中間層から値の絶対値が閾値より大きいものの座標を取得\n",
    "        y, x = np.where(abs(self.block_output_exchanged) > self.border)\n",
    "        L = len(y)\n",
    "        self.points = [ [y[i], x[i]] for i in range(L)]\n",
    "        \n",
    "        #k-means法でクラスタリング\n",
    "        self.k_means_model = KMeans(n_clusters=self.K)\n",
    "        self.k_means_model.fit(self.points)\n",
    "        self.clusters = self.k_means_model.predict(self.points)\n",
    "        \n",
    "        #クラスタ番号をキーとするdefaultdictに各点の座標を格納。y, x座標の最大値最小値も記録\n",
    "        self.dd = defaultdict(lambda : [])\n",
    "        self.left = defaultdict(lambda : 1000)\n",
    "        self.right = defaultdict(lambda : -1000)\n",
    "        self.up = defaultdict(lambda : 1000)\n",
    "        self.down = defaultdict(lambda : -1000)\n",
    "        for i in range(L):\n",
    "            c = self.clusters[i]\n",
    "            tmp_y, tmp_x = self.points[i]\n",
    "            self.dd[c].append([tmp_y, tmp_x])\n",
    "            self.left[c] = min(self.left[c], tmp_x)\n",
    "            self.right[c] = max(self.right[c], tmp_x)\n",
    "            self.up[c] = min(self.up[c], tmp_y)\n",
    "            self.down[c] = max(self.down[c], tmp_y)\n",
    "        \n",
    "        #クラスタ毎に凸包を算出し、マスクしてモデルに流して評価値を得る\n",
    "        for c in range(self.K):\n",
    "            if len(self.dd[c]) < 3:\n",
    "                continue\n",
    "            #入力記録用の辞書を初期化しておく\n",
    "            self.input_backup = defaultdict(lambda : []) # r, b, g\n",
    "            \n",
    "            #クラスタ毎にマスクする\n",
    "            for y in range(self.up[c], self.down[c] + 1):\n",
    "                for x in range(self.left[c], self.right[c] + 1):\n",
    "                    tmp_p = [y, x]\n",
    "                    if tmp_p in self.points:\n",
    "                        count += 1\n",
    "                    if self.in_hull_(point=tmp_p, hull=self.dd[c]):\n",
    "                        r, b, g = _input[0, 0, y, x].item(), _input[0, 1, y, x].item(), _input[0, 2, y, x].item()\n",
    "                        #r, b, g = _input[0, 0, y, x], _input[0, 1, y, x], _input[0, 2, y, x]\n",
    "                        self.input_backup[(y, x)] = [r, b, g]\n",
    "                        _input[0, 0, y, x] = 255\n",
    "                        _input[0, 1, y, x] = 255\n",
    "                        _input[0, 2, y, x] = 255\n",
    "            \n",
    "            #plt.imshow(_input[0].permute(1, 2, 0))\n",
    "            \n",
    "            #モデルに流してスコアを得る\n",
    "            \n",
    "            tmp_output = self.model(_input)\n",
    "            tmp_batch_probs = F.softmax(tmp_output, dim = 1)\n",
    "            tmp_prob = tmp_batch_probs[0][self.base_class_index].item()\n",
    "            tmp_value = tmp_prob\n",
    "            #tmp_value = (tmp_prob - self.base_prob) / self.base_prob\n",
    "            self.masked_input.append(tmp_value)\n",
    "            \"\"\"\n",
    "            for i in range(10):\n",
    "                tmp_output = self.model(_input)\n",
    "                tmp_batch_probs = F.softmax(tmp_output, dim = 1)\n",
    "                tmp_prob = tmp_batch_probs[0][self.base_class_index].item()\n",
    "                tmp_value = (tmp_prob - self.base_prob) / self.base_prob\n",
    "                self.masked_input.append(tmp_value)\n",
    "            \"\"\"\n",
    "            #スコアを記録すると共に入力を元に戻す\n",
    "            for k, v in reversed(self.input_backup.items()):\n",
    "                y, x = k\n",
    "                r, b, g = v\n",
    "                tmp_values[y, x] = tmp_value\n",
    "                _input[0, 0, y, x] = r\n",
    "                _input[0, 1, y, x] = b\n",
    "                _input[0, 2, y, x] = g\n",
    "            \n",
    "            l = len(np.where(copy_inputs != _input))\n",
    "            if l != 0:\n",
    "                print(l)\n",
    "            else:\n",
    "                print(\"same!\")\n",
    "            #self.inputs.append(_input)\n",
    "            #self.values.append(tmp_values)\n",
    "        #plt.imshow(tmp_values) \n",
    "        print(count)  \n",
    "        return tmp_values    \n",
    "                        \n",
    "            \n",
    "            \n",
    "        "
   ]
  },
  {
   "cell_type": "code",
   "execution_count": null,
   "metadata": {},
   "outputs": [],
   "source": [
    "from sklearn.cluster import DBSCAN\n",
    "from collections import defaultdict\n",
    "from scipy.spatial import ConvexHull, Delaunay\n",
    "\n",
    "class mid_output_dbscam_ablation():\n",
    "    \n",
    "    def __init__(self, model : timm.models.mlp_mixer.MlpMixer) -> None:\n",
    "        self.model = model\n",
    "        self.class_names = None\n",
    "        self.get_classes()\n",
    "        self.inputs = []\n",
    "        self.values = []\n",
    "        self.block_output = None\n",
    "        self.block_output_exchanged = None\n",
    "        self.points = None\n",
    "        self.K = 10\n",
    "        self.clusters = None\n",
    "        self.dd = defaultdict(lambda : [])\n",
    "        self.left = defaultdict(lambda : 1000)\n",
    "        self.right = defaultdict(lambda : -1000)\n",
    "        self.up = defaultdict(lambda : 1000)\n",
    "        self.down = defaultdict(lambda : -1000)\n",
    "        self.input_backup = defaultdict(lambda : []) # r, b, g\n",
    "        self.masked_input = []\n",
    "        self.eps = 0.5\n",
    "        self.min_samples = 10\n",
    "        \n",
    "    def get_classes(self):\n",
    "        if not Path(\"data/imagenet_class_index.json\").exists():\n",
    "            # ファイルが存在しない場合はダウンロードする。\n",
    "            download_url(\"https://git.io/JebAs\", \"data\", \"imagenet_class_index.json\")\n",
    "\n",
    "        # クラス一覧を読み込む。\n",
    "        with open(\"data/imagenet_class_index.json\") as f:\n",
    "            data = json.load(f)\n",
    "            self.class_names = [x[\"ja\"] for x in data]\n",
    "    \n",
    "    def base_model_output(self, _input : torch.Tensor) -> tuple:\n",
    "        \"\"\"画像をモデルに入力した際の一番スコアが高いラベルとそのスコアを返す\"\"\"\n",
    "        base_output = self.model(_input)\n",
    "        batch_probs = F.softmax(base_output, dim=1)\n",
    "        batch_probs, batch_indices = batch_probs.sort(dim=1, descending=True)\n",
    "\n",
    "        return (self.class_names[batch_indices[0][0]], batch_probs[0][0].item())\n",
    "    \n",
    "    def in_hull_(self, point : list, hull : list):\n",
    "        \"\"\"点群hullからなる凸包内に点pointが入っているかを判定\"\"\"\n",
    "        if not isinstance(hull, Delaunay):\n",
    "            hull = Delaunay(hull)\n",
    "        return hull.find_simplex(point) >= 0\n",
    "    \n",
    "    def calc_value(self, _input : torch.Tensor, eps=0.5, min_samples=10) -> np.ndarray: \n",
    "        \"\"\"\n",
    "        入力画像に対して、最初の中間層において値の絶対値が閾値より大きいものに対してk-means法によるクラスタリングを行い、\n",
    "        各クラスタによって形成される凸包単位でのマスクを行った際のスコアの変化を予測への寄与とする\n",
    "        寄与度は元々のスコアをx, (i,j)要素を0にした際のスコアをyijとしたとき、(yij - x) / xとする\n",
    "        \"\"\"\n",
    "        #print(len(np.where(inputs != _input)))\n",
    "        #DESCANのパラメータ\n",
    "        self.eps = eps\n",
    "        self.min_samples = min_samples\n",
    "        \n",
    "        #スコア記録用配列\n",
    "        tmp_values = np.zeros((224, 224))\n",
    "        \n",
    "        self.masked_input = []\n",
    "        count = 0\n",
    "        \n",
    "        #元々のスコアとクラス名とそのインデックスを取得\n",
    "        self.base_class_name, self.base_prob = self.base_model_output(_input)\n",
    "        self.base_class_index = self.class_names.index(self.base_class_name)\n",
    "        \n",
    "        #最初の中間層を取得\n",
    "        self.block_output = self.model.blocks[0].block_output\n",
    "        self.block_output_exchanged = exchange.exchange_tensor_to_array(self.block_output)\n",
    "        \n",
    "        #最初の中間層から値の絶対値が閾値より大きいものの座標を取得\n",
    "        y, x = np.where(abs(self.block_output_exchanged) > self.border)\n",
    "        L = len(y)\n",
    "        self.points = [ [y[i], x[i]] for i in range(L)]\n",
    "\n",
    "        #DBSCAMでクラスタリング\n",
    "        self.k_means_model = KMeans(n_clusters=self.K)\n",
    "        self.k_means_model.fit(self.points)\n",
    "        self.clusters = self.k_means_model.predict(self.points)\n",
    "        \n",
    "        #クラスタ番号をキーとするdefaultdictに各点の座標を格納。y, x座標の最大値最小値も記録\n",
    "        self.dd = defaultdict(lambda : [])\n",
    "        self.left = defaultdict(lambda : 1000)\n",
    "        self.right = defaultdict(lambda : -1000)\n",
    "        self.up = defaultdict(lambda : 1000)\n",
    "        self.down = defaultdict(lambda : -1000)\n",
    "        for i in range(L):\n",
    "            c = self.clusters[i]\n",
    "            tmp_y, tmp_x = self.points[i]\n",
    "            self.dd[c].append([tmp_y, tmp_x])\n",
    "            self.left[c] = min(self.left[c], tmp_x)\n",
    "            self.right[c] = max(self.right[c], tmp_x)\n",
    "            self.up[c] = min(self.up[c], tmp_y)\n",
    "            self.down[c] = max(self.down[c], tmp_y)\n",
    "        \n",
    "        #クラスタ毎に凸包を算出し、マスクしてモデルに流して評価値を得る\n",
    "        for c in range(self.K):\n",
    "            if len(self.dd[c]) < 3:\n",
    "                continue\n",
    "            #入力記録用の辞書を初期化しておく\n",
    "            self.input_backup = defaultdict(lambda : []) # r, b, g\n",
    "            \n",
    "            #クラスタ毎にマスクする\n",
    "            for y in range(self.up[c], self.down[c] + 1):\n",
    "                for x in range(self.left[c], self.right[c] + 1):\n",
    "                    tmp_p = [y, x]\n",
    "                    if tmp_p in self.points:\n",
    "                        count += 1\n",
    "                    if self.in_hull_(point=tmp_p, hull=self.dd[c]):\n",
    "                        r, b, g = _input[0, 0, y, x].item(), _input[0, 1, y, x].item(), _input[0, 2, y, x].item()\n",
    "                        #r, b, g = _input[0, 0, y, x], _input[0, 1, y, x], _input[0, 2, y, x]\n",
    "                        self.input_backup[(y, x)] = [r, b, g]\n",
    "                        _input[0, 0, y, x] = 255\n",
    "                        _input[0, 1, y, x] = 255\n",
    "                        _input[0, 2, y, x] = 255\n",
    "            \n",
    "            #plt.imshow(_input[0].permute(1, 2, 0))\n",
    "            \n",
    "            #モデルに流してスコアを得る\n",
    "            \n",
    "            tmp_output = self.model(_input)\n",
    "            tmp_batch_probs = F.softmax(tmp_output, dim = 1)\n",
    "            tmp_prob = tmp_batch_probs[0][self.base_class_index].item()\n",
    "            tmp_value = tmp_prob\n",
    "            #tmp_value = (tmp_prob - self.base_prob) / self.base_prob\n",
    "            self.masked_input.append(tmp_value)\n",
    "            \"\"\"\n",
    "            for i in range(10):\n",
    "                tmp_output = self.model(_input)\n",
    "                tmp_batch_probs = F.softmax(tmp_output, dim = 1)\n",
    "                tmp_prob = tmp_batch_probs[0][self.base_class_index].item()\n",
    "                tmp_value = (tmp_prob - self.base_prob) / self.base_prob\n",
    "                self.masked_input.append(tmp_value)\n",
    "            \"\"\"\n",
    "            #スコアを記録すると共に入力を元に戻す\n",
    "            for k, v in reversed(self.input_backup.items()):\n",
    "                y, x = k\n",
    "                r, b, g = v\n",
    "                tmp_values[y, x] = tmp_value\n",
    "                _input[0, 0, y, x] = r\n",
    "                _input[0, 1, y, x] = b\n",
    "                _input[0, 2, y, x] = g\n",
    "            \n",
    "            l = len(np.where(copy_inputs != _input))\n",
    "            if l != 0:\n",
    "                print(l)\n",
    "            else:\n",
    "                print(\"same!\")\n",
    "            #self.inputs.append(_input)\n",
    "            #self.values.append(tmp_values)\n",
    "        #plt.imshow(tmp_values) \n",
    "        print(count)  \n",
    "        return tmp_values    "
   ]
  },
  {
   "cell_type": "code",
   "execution_count": 3,
   "metadata": {},
   "outputs": [],
   "source": [
    "exp = mid_output_k_meams_ablation(model)"
   ]
  },
  {
   "cell_type": "code",
   "execution_count": 4,
   "metadata": {},
   "outputs": [
    {
     "data": {
      "text/plain": [
       "('エジプトの猫', 0.8991207480430603)"
      ]
     },
     "execution_count": 4,
     "metadata": {},
     "output_type": "execute_result"
    }
   ],
   "source": [
    "exp.base_model_output(inputs)"
   ]
  },
  {
   "cell_type": "code",
   "execution_count": null,
   "metadata": {},
   "outputs": [],
   "source": [
    "exp_out = exp.calc_value(inputs, K = 8)"
   ]
  },
  {
   "cell_type": "code",
   "execution_count": null,
   "metadata": {},
   "outputs": [],
   "source": [
    "plt.imshow(copy_inputs[0].permute(1,2,0))"
   ]
  },
  {
   "cell_type": "code",
   "execution_count": null,
   "metadata": {},
   "outputs": [],
   "source": [
    "plt.imshow(inputs[0].permute(1, 2,0))"
   ]
  },
  {
   "cell_type": "code",
   "execution_count": null,
   "metadata": {},
   "outputs": [],
   "source": [
    "print(exp.up.items())\n",
    "print(exp.down.items())\n",
    "print(exp.left.items())\n",
    "print(exp.right.items())"
   ]
  },
  {
   "cell_type": "code",
   "execution_count": null,
   "metadata": {},
   "outputs": [],
   "source": [
    "exp.masked_input"
   ]
  },
  {
   "cell_type": "code",
   "execution_count": null,
   "metadata": {},
   "outputs": [],
   "source": [
    "exp_out.max()"
   ]
  },
  {
   "cell_type": "code",
   "execution_count": null,
   "metadata": {},
   "outputs": [],
   "source": [
    "max(exp.masked_input)"
   ]
  },
  {
   "cell_type": "code",
   "execution_count": null,
   "metadata": {},
   "outputs": [],
   "source": [
    "exchange.show_heatmap_with_colorbar(exp_out)"
   ]
  },
  {
   "cell_type": "code",
   "execution_count": null,
   "metadata": {},
   "outputs": [],
   "source": [
    "output = model(inputs)\n",
    "\n",
    "block_outputs = []\n",
    "block_outputs_exchanged = []\n",
    "#ブロックの入出力の抽出\n",
    "for i in model.blocks:\n",
    "    _output = i.block_output\n",
    "    block_outputs.append(_output)\n",
    "    block_outputs_exchanged.append(exchange.exchange_tensor_to_array(_output))"
   ]
  },
  {
   "cell_type": "code",
   "execution_count": null,
   "metadata": {},
   "outputs": [],
   "source": [
    "exchange.show_heatmap_with_colorbar(block_outputs_exchanged[0])"
   ]
  },
  {
   "cell_type": "code",
   "execution_count": null,
   "metadata": {},
   "outputs": [],
   "source": [
    "exchange.show_heatmap_with_colorbar(tmp)"
   ]
  },
  {
   "cell_type": "code",
   "execution_count": null,
   "metadata": {},
   "outputs": [],
   "source": [
    "tmp = copy.deepcopy(block_outputs_exchanged[0])\n",
    "count = 0\n",
    "for i in range(224):\n",
    "    for j in range(224):\n",
    "        if abs(tmp[i, j]) > 3.5:\n",
    "            count += 1\n",
    "            tmp[i,j] = 255\n",
    "        else:\n",
    "            tmp[i, j] = 0\n",
    "print(count)\n",
    "plt.imshow(tmp)"
   ]
  },
  {
   "cell_type": "code",
   "execution_count": null,
   "metadata": {},
   "outputs": [],
   "source": [
    "plt.imshow(inputs[0].permute(1, 2, 0))"
   ]
  },
  {
   "cell_type": "code",
   "execution_count": null,
   "metadata": {},
   "outputs": [],
   "source": [
    "from sklearn.cluster import KMeans\n",
    "\n",
    "kmeans_model = KMeans(n_clusters=3)\n",
    "x = np.where(abs(tmp) > 2)\n",
    "l = len(x[0])\n",
    "p = [ [x[0][i], x[1][i]] for i in range(l)]\n",
    "kmeans_model.fit(p)\n"
   ]
  },
  {
   "cell_type": "code",
   "execution_count": null,
   "metadata": {},
   "outputs": [],
   "source": [
    "clusters = kmeans_model.predict(p)"
   ]
  },
  {
   "cell_type": "code",
   "execution_count": null,
   "metadata": {},
   "outputs": [],
   "source": [
    "len(p)"
   ]
  },
  {
   "cell_type": "code",
   "execution_count": null,
   "metadata": {},
   "outputs": [],
   "source": [
    "result = np.zeros((224, 224))\n",
    "for i in range(l):\n",
    "    y, x = p[i]\n",
    "    result[y, x] = (clusters[i] + 1) * 50"
   ]
  },
  {
   "cell_type": "code",
   "execution_count": null,
   "metadata": {},
   "outputs": [],
   "source": [
    "plt.imshow(result)"
   ]
  },
  {
   "cell_type": "code",
   "execution_count": null,
   "metadata": {},
   "outputs": [],
   "source": [
    "exchange.show_heatmap_with_colorbar(result)"
   ]
  },
  {
   "cell_type": "code",
   "execution_count": null,
   "metadata": {},
   "outputs": [],
   "source": [
    "import collections\n",
    "dd = collections.defaultdict(lambda : [])\n",
    "for i in range(l):\n",
    "    y, x = p[i]\n",
    "    c = clusters[i]\n",
    "    dd[c].append([y, x])\n"
   ]
  },
  {
   "cell_type": "code",
   "execution_count": null,
   "metadata": {},
   "outputs": [],
   "source": [
    "from scipy.spatial import ConvexHull, Delaunay\n",
    "hull = ConvexHull(dd[1])"
   ]
  },
  {
   "cell_type": "code",
   "execution_count": null,
   "metadata": {},
   "outputs": [],
   "source": [
    "hull"
   ]
  },
  {
   "cell_type": "code",
   "execution_count": null,
   "metadata": {},
   "outputs": [],
   "source": [
    "def in_hull(point, hull):\n",
    "    if not isinstance(hull, Delaunay):\n",
    "        hull = Delaunay(hull)\n",
    "    return hull.find_simplex(point) >= 0"
   ]
  },
  {
   "cell_type": "code",
   "execution_count": null,
   "metadata": {},
   "outputs": [],
   "source": [
    "in_hull([0, 0], dd[1])"
   ]
  },
  {
   "cell_type": "code",
   "execution_count": null,
   "metadata": {},
   "outputs": [],
   "source": [
    "len(dd)"
   ]
  },
  {
   "cell_type": "code",
   "execution_count": null,
   "metadata": {},
   "outputs": [],
   "source": [
    "points = np.array(dd[1])\n",
    "plt.scatter(points[:, 0], points[:,1])\n",
    "points = np.array(dd[0])\n",
    "plt.scatter(points[:, 0], points[:,1])\n",
    "plt.show()\n",
    "\"\"\"\n",
    "hull = ConvexHull(points)\n",
    "points = hull.points\n",
    "hull_points = points[hull.vertices]\n",
    "\n",
    "hp = np.vstack((hull_points, hull_points[0]))\n",
    "plt.plot(hp[:,0], hp[:,1])\n",
    "plt.scatter(points[:,0], points[:,1])\n",
    "plt.show()\n",
    "\"\"\""
   ]
  },
  {
   "cell_type": "code",
   "execution_count": null,
   "metadata": {},
   "outputs": [],
   "source": [
    "for c in range(6):\n",
    "    points = np.array(dd[c])\n",
    "    plt.scatter(points[:, 0], points[:,1])\n",
    "    hull = ConvexHull(points)\n",
    "    points = hull.points\n",
    "    hull_points = points[hull.vertices]\n",
    "\n",
    "    hp = np.vstack((hull_points, hull_points[0]))\n",
    "    plt.plot(hp[:,0], hp[:,1])\n",
    "    plt.scatter(points[:,0], points[:,1])\n",
    "plt.show()"
   ]
  },
  {
   "cell_type": "code",
   "execution_count": null,
   "metadata": {},
   "outputs": [],
   "source": [
    "flags = np.zeros((224, 224))\n",
    "for c in range(3):\n",
    "    ys = [ dd[c][i][0] for i in range(len(dd[c]))]\n",
    "    xs = [ dd[c][i][1] for i in range(len(dd[c]))]\n",
    "    \n",
    "    for y, x in zip(ys, xs):\n",
    "        flags[y, x] = (c + 1) * 50+ 1\n",
    "plt.imshow(flags)"
   ]
  },
  {
   "cell_type": "code",
   "execution_count": null,
   "metadata": {},
   "outputs": [],
   "source": [
    "flags = np.zeros((224, 224))\n",
    "for c in range(3):\n",
    "    ys = [ dd[c][i][0] for i in range(len(dd[c]))]\n",
    "    xs = [ dd[c][i][1] for i in range(len(dd[c]))]\n",
    "    left = min(xs)\n",
    "    right = max(xs)\n",
    "    up = min(ys)\n",
    "    down = max(ys)\n",
    "    for y in range(up, down + 1):\n",
    "        for x in range(left, right + 1):\n",
    "            if in_hull([y, x], dd[c]):\n",
    "                flags[y, x] = c + 1"
   ]
  },
  {
   "cell_type": "code",
   "execution_count": null,
   "metadata": {},
   "outputs": [],
   "source": [
    "plt.imshow(flags)"
   ]
  },
  {
   "cell_type": "code",
   "execution_count": null,
   "metadata": {},
   "outputs": [],
   "source": [
    "ys = [ dd[3][i][0] for i in range(len(dd[3]))]\n",
    "xs = [ dd[3][i][1] for i in range(len(dd[3]))]\n",
    "left = min(xs)\n",
    "right = max(xs)\n",
    "up = min(ys)\n",
    "down = max(ys)"
   ]
  },
  {
   "cell_type": "code",
   "execution_count": null,
   "metadata": {},
   "outputs": [],
   "source": [
    "print(left, right, up, down)"
   ]
  },
  {
   "cell_type": "code",
   "execution_count": null,
   "metadata": {},
   "outputs": [],
   "source": [
    "flags = np.zeros((224, 224))\n",
    "for y in range(up, down + 1):\n",
    "    for x in range(left, right + 1):\n",
    "        test = [y, x]\n",
    "        if in_hull(test, dd[3]):\n",
    "            flags[y, x] = 255\n",
    "        "
   ]
  },
  {
   "cell_type": "code",
   "execution_count": null,
   "metadata": {},
   "outputs": [],
   "source": [
    "plt.imshow(flags)"
   ]
  },
  {
   "cell_type": "code",
   "execution_count": null,
   "metadata": {},
   "outputs": [],
   "source": [
    "def get_classes():\n",
    "    if not Path(\"data/imagenet_class_index.json\").exists():\n",
    "        # ファイルが存在しない場合はダウンロードする。\n",
    "        download_url(\"https://git.io/JebAs\", \"data\", \"imagenet_class_index.json\")\n",
    "\n",
    "    # クラス一覧を読み込む。\n",
    "    with open(\"data/imagenet_class_index.json\") as f:\n",
    "        data = json.load(f)\n",
    "        return [x[\"ja\"] for x in data]\n",
    "\n",
    "class_names = get_classes()\n",
    "def base_model_output(_input : torch.Tensor) -> tuple:\n",
    "    \"\"\"画像をモデルに入力した際の一番スコアが高いラベルとそのスコアを返す\"\"\"\n",
    "    base_output = model(_input)\n",
    "    batch_probs = F.softmax(base_output, dim=1)\n",
    "    batch_probs, batch_indices = batch_probs.sort(dim=1, descending=True)\n",
    "\n",
    "    return (class_names[batch_indices[0][0]], batch_probs[0][0])\n",
    "\n",
    "\n",
    "target_class_name, base_probs = base_model_output(inputs)\n",
    "class_index = class_names.index(target_class_name)"
   ]
  },
  {
   "cell_type": "code",
   "execution_count": null,
   "metadata": {},
   "outputs": [],
   "source": [
    "base_probs"
   ]
  },
  {
   "cell_type": "code",
   "execution_count": null,
   "metadata": {},
   "outputs": [],
   "source": [
    "class_index"
   ]
  },
  {
   "cell_type": "code",
   "execution_count": null,
   "metadata": {},
   "outputs": [],
   "source": [
    "import collections\n",
    "dd = collections.defaultdict(lambda : [])\n",
    "for i in range(l):\n",
    "    y, x = p[i]\n",
    "    c = clusters[i]\n",
    "    dd[c].append([y, x])\n",
    "values = np.zeros((224, 224))\n",
    "stack = collections.defaultdict(lambda : 0)\n",
    "for i in dd.values()[1:]:\n",
    "    for y, x in i:\n",
    "        stack[(y, x, 0)] = inputs[0, 0, y, x].item()\n",
    "        stack[(y, x, 1)] = inputs[0, 1, y, x].item()\n",
    "        stack[(y, x, 2)] = inputs[0, 2, y, x].item()\n",
    "        inputs[0, 0, y, x] = 0\n",
    "        inputs[0, 1, y, x] = 0\n",
    "        inputs[0, 2, y, x] = 0\n",
    "    plt.imshow(inputs[0].permute(1,2,0))\n",
    "    exit()\n",
    "    tmp_output = model(inputs)\n",
    "    batch_probs = F.softmax(output, dim=1)\n",
    "    tmp_prob = batch_probs[0][class_index].item()\n",
    "    tmp_value = tmp_prob - base_probs\n",
    "    print(tmp_prob)\n",
    "    for y, x in i:\n",
    "        values[y, x] = tmp_value\n",
    "        r, b, g = stack[(y, x, 0)], stack[(y, x, 1)], stack[(y, x, 2)]\n",
    "        inputs[0, 0, y, x] = r\n",
    "        inputs[0, 1, y, x] = b\n",
    "        inputs[0, 2, y, x] = g\n",
    "plt.imshow(inputs[0].permute(1,2,0))"
   ]
  },
  {
   "cell_type": "code",
   "execution_count": null,
   "metadata": {},
   "outputs": [],
   "source": [
    "exchange.show_heatmap_with_colorbar(values)"
   ]
  },
  {
   "cell_type": "code",
   "execution_count": null,
   "metadata": {},
   "outputs": [],
   "source": [
    "import pandas as pd\n",
    "import seaborn as sns\n",
    "df = pd.DataFrame(p, columns=[\"y\", \"x\"])\n",
    "df[\"class\"] = clusters\n",
    "sns.scatterplot(data=df, x=\"x\", y=\"y\",hue=\"class\")"
   ]
  }
 ],
 "metadata": {
  "kernelspec": {
   "display_name": "Python 3.10.8 64-bit",
   "language": "python",
   "name": "python3"
  },
  "language_info": {
   "codemirror_mode": {
    "name": "ipython",
    "version": 3
   },
   "file_extension": ".py",
   "mimetype": "text/x-python",
   "name": "python",
   "nbconvert_exporter": "python",
   "pygments_lexer": "ipython3",
   "version": "3.10.8"
  },
  "orig_nbformat": 4,
  "vscode": {
   "interpreter": {
    "hash": "949777d72b0d2535278d3dc13498b2535136f6dfe0678499012e853ee9abcab1"
   }
  }
 },
 "nbformat": 4,
 "nbformat_minor": 2
}
